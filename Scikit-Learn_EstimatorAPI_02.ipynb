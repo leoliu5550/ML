{
 "cells": [
  {
   "cell_type": "code",
   "execution_count": 3,
   "id": "61c8d7d0",
   "metadata": {},
   "outputs": [],
   "source": [
    "import matplotlib.pyplot as plt\n",
    "import numpy as np\n",
    "%matplotlib inline"
   ]
  },
  {
   "cell_type": "markdown",
   "id": "cb5d240b",
   "metadata": {},
   "source": [
    "# create Classification Data"
   ]
  },
  {
   "cell_type": "code",
   "execution_count": 4,
   "id": "2658cf47",
   "metadata": {},
   "outputs": [
    {
     "name": "stdout",
     "output_type": "stream",
     "text": [
      "0.5\n"
     ]
    },
    {
     "data": {
      "image/png": "[encoded data removed]",
      "text/plain": [
       "<Figure size 432x288 with 1 Axes>"
      ]
     },
     "metadata": {
      "needs_background": "light"
     },
     "output_type": "display_data"
    }
   ],
   "source": [
    "x = np.random.rand(100)*10\n",
    "y = np.zeros(len(x))\n",
    "color=[[],[]]\n",
    "for i in range(len(x)):\n",
    "    if x[i]>=5:\n",
    "        color[0].append(i)\n",
    "        y[i]=1 \n",
    "    else:\n",
    "        color[1].append(i)\n",
    "print(sum(y)/len(y))\n",
    "for i,c in zip([0,1],['r','g']):\n",
    "    plt.scatter(x[color[i]],y[color[i]],color =  c)\n",
    "x = x[:,np.newaxis]"
   ]
  },
  {
   "cell_type": "markdown",
   "id": "cbcdfd68",
   "metadata": {},
   "source": [
    "## split training data and test data"
   ]
  },
  {
   "cell_type": "code",
   "execution_count": 5,
   "id": "209d722b",
   "metadata": {},
   "outputs": [],
   "source": [
    "from sklearn.model_selection import train_test_split\n",
    "Xtrain,Xtest,Ytrain,Ytest = train_test_split(x,y,test_size=0.33)"
   ]
  },
  {
   "cell_type": "code",
   "execution_count": 6,
   "id": "8f3fd5a4",
   "metadata": {},
   "outputs": [
    {
     "data": {
      "image/png": "[encoded data removed]",
      "text/plain": [
       "<Figure size 432x288 with 2 Axes>"
      ]
     },
     "metadata": {
      "needs_background": "light"
     },
     "output_type": "display_data"
    }
   ],
   "source": [
    "fig = plt.figure()\n",
    "plt.subplot(121)\n",
    "color2=[[],[]]\n",
    "for i in range(len(Ytrain)):\n",
    "    if Ytrain[i]==1:\n",
    "        color2[0].append(i)\n",
    "    else:\n",
    "        color2[1].append(i)\n",
    "        \n",
    "for i,c in zip([0,1],['r','g']):\n",
    "    plt.scatter(Xtrain[color2[i]],Ytrain[color2[i]],color = c)\n",
    "\n",
    "plt.subplot(122)\n",
    "color2=[[],[]]\n",
    "for i in range(len(Ytest)):\n",
    "    if Ytest[i]==1:\n",
    "        color2[0].append(i)\n",
    "    else:\n",
    "        color2[1].append(i)\n",
    "        \n",
    "for i,c in zip([0,1],['r','g']):\n",
    "    plt.scatter(Xtest[color2[i]],Ytest[color2[i]],color = c)\n",
    "    "
   ]
  },
  {
   "cell_type": "markdown",
   "id": "af3a197f",
   "metadata": {},
   "source": [
    "# NBclassification Model"
   ]
  },
  {
   "cell_type": "markdown",
   "id": "b9068579",
   "metadata": {},
   "source": [
    "## train NBclassification Model"
   ]
  },
  {
   "cell_type": "code",
   "execution_count": 7,
   "id": "813b8baf",
   "metadata": {},
   "outputs": [],
   "source": [
    "from sklearn.naive_bayes import GaussianNB\n",
    "model = GaussianNB()"
   ]
  },
  {
   "cell_type": "code",
   "execution_count": 8,
   "id": "624ef5f9",
   "metadata": {},
   "outputs": [],
   "source": [
    "model.fit(Xtrain,Ytrain)\n",
    "pred = model.predict(Xtrain)"
   ]
  },
  {
   "cell_type": "code",
   "execution_count": 9,
   "id": "871ec026",
   "metadata": {},
   "outputs": [
    {
     "data": {
      "text/plain": [
       "0.9701492537313433"
      ]
     },
     "execution_count": 9,
     "metadata": {},
     "output_type": "execute_result"
    }
   ],
   "source": [
    "from sklearn.metrics import accuracy_score\n",
    "accuracy_score(Ytrain,pred)"
   ]
  },
  {
   "cell_type": "code",
   "execution_count": 10,
   "id": "e0d03065",
   "metadata": {},
   "outputs": [
    {
     "data": {
      "text/plain": [
       "0.9696969696969697"
      ]
     },
     "execution_count": 10,
     "metadata": {},
     "output_type": "execute_result"
    }
   ],
   "source": [
    "testpred = model.predict(Xtest)\n",
    "accuracy_score(Ytest,testpred)"
   ]
  }
 ],
 "metadata": {
  "kernelspec": {
   "display_name": "Python 3 (ipykernel)",
   "language": "python",
   "name": "python3"
  },
  "language_info": {
   "codemirror_mode": {
    "name": "ipython",
    "version": 3
   },
   "file_extension": ".py",
   "mimetype": "text/x-python",
   "name": "python",
   "nbconvert_exporter": "python",
   "pygments_lexer": "ipython3",
   "version": "3.9.10"
  },
  "toc": {
   "base_numbering": 1,
   "nav_menu": {},
   "number_sections": true,
   "sideBar": true,
   "skip_h1_title": false,
   "title_cell": "Table of Contents",
   "title_sidebar": "Contents",
   "toc_cell": false,
   "toc_position": {},
   "toc_section_display": true,
   "toc_window_display": false
  }
 },
 "nbformat": 4,
 "nbformat_minor": 5
}
