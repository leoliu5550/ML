{
 "cells": [
  {
   "cell_type": "code",
   "execution_count": 1,
   "id": "81f3a373",
   "metadata": {},
   "outputs": [],
   "source": [
    "import matplotlib.pyplot as plt\n",
    "import numpy as np\n",
    "%matplotlib inline"
   ]
  },
  {
   "cell_type": "markdown",
   "id": "4eb26165",
   "metadata": {},
   "source": [
    "# CreateClassification Data"
   ]
  },
  {
   "cell_type": "code",
   "execution_count": 38,
   "id": "e1461b65",
   "metadata": {},
   "outputs": [
    {
     "name": "stdout",
     "output_type": "stream",
     "text": [
      "0.28\n"
     ]
    }
   ],
   "source": [
    "x = np.random.rand(100,4)*10\n",
    "y = np.zeros(x.shape[0])\n",
    "color=[[],[]]\n",
    "for i in range(len(x)):\n",
    "    if np.mean(x[i])>=6:\n",
    "        color[0].append(i)\n",
    "        y[i]=1 \n",
    "    else:\n",
    "        color[1].append(i)\n",
    "print(sum(y)/len(y))\n",
    "# x = x[:,np.newaxis]"
   ]
  },
  {
   "cell_type": "markdown",
   "id": "44f0d863",
   "metadata": {},
   "source": [
    "# PCA"
   ]
  },
  {
   "cell_type": "code",
   "execution_count": 39,
   "id": "208b8f7f",
   "metadata": {},
   "outputs": [
    {
     "name": "stdout",
     "output_type": "stream",
     "text": [
      "[0.34464811]\n"
     ]
    }
   ],
   "source": [
    "from sklearn.decomposition import PCA\n",
    "model = PCA(n_components=1)\n",
    "model.fit(x)\n",
    "print(model.explained_variance_ratio_)\n",
    "# print(sum(model.explained_variance_ratio_)) "
   ]
  },
  {
   "cell_type": "code",
   "execution_count": 40,
   "id": "e4ccbaa0",
   "metadata": {},
   "outputs": [],
   "source": [
    "X = model.transform(x)"
   ]
  },
  {
   "cell_type": "code",
   "execution_count": 41,
   "id": "a2db432b",
   "metadata": {},
   "outputs": [
    {
     "data": {
      "image/png": "[encoded data removed]",
      "text/plain": [
       "<Figure size 432x288 with 1 Axes>"
      ]
     },
     "metadata": {
      "needs_background": "light"
     },
     "output_type": "display_data"
    }
   ],
   "source": [
    "for i,c in zip([0,1],['r','g']):\n",
    "    plt.scatter(X[color[i]],y[color[i]],color =  c)"
   ]
  },
  {
   "cell_type": "code",
   "execution_count": null,
   "id": "a0bc2808",
   "metadata": {},
   "outputs": [],
   "source": []
  }
 ],
 "metadata": {
  "kernelspec": {
   "display_name": "Python 3 (ipykernel)",
   "language": "python",
   "name": "python3"
  },
  "language_info": {
   "codemirror_mode": {
    "name": "ipython",
    "version": 3
   },
   "file_extension": ".py",
   "mimetype": "text/x-python",
   "name": "python",
   "nbconvert_exporter": "python",
   "pygments_lexer": "ipython3",
   "version": "3.9.10"
  },
  "toc": {
   "base_numbering": 1,
   "nav_menu": {},
   "number_sections": true,
   "sideBar": true,
   "skip_h1_title": false,
   "title_cell": "Table of Contents",
   "title_sidebar": "Contents",
   "toc_cell": false,
   "toc_position": {},
   "toc_section_display": true,
   "toc_window_display": false
  }
 },
 "nbformat": 4,
 "nbformat_minor": 5
}
